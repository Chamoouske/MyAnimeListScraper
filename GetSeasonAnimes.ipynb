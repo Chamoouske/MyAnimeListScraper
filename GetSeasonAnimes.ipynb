{
 "cells": [
  {
   "cell_type": "code",
   "execution_count": 1,
   "metadata": {},
   "outputs": [
    {
     "name": "stdout",
     "output_type": "stream",
     "text": [
      "Note: you may need to restart the kernel to use updated packages.\n"
     ]
    },
    {
     "name": "stderr",
     "output_type": "stream",
     "text": [
      "\n",
      "[notice] A new release of pip available: 22.3 -> 22.3.1\n",
      "[notice] To update, run: python.exe -m pip install --upgrade pip\n"
     ]
    }
   ],
   "source": [
    "%pip install beautifulsoup4 requests pandas -q"
   ]
  },
  {
   "cell_type": "code",
   "execution_count": 2,
   "metadata": {},
   "outputs": [],
   "source": [
    "import requests\n",
    "from bs4 import BeautifulSoup as bs"
   ]
  },
  {
   "cell_type": "code",
   "execution_count": 3,
   "metadata": {},
   "outputs": [],
   "source": [
    "res = requests.get('https://myanimelist.net/anime/season')\n",
    "soup = bs(res.text, 'html.parser')"
   ]
  },
  {
   "cell_type": "code",
   "execution_count": 4,
   "metadata": {},
   "outputs": [],
   "source": [
    "titles = []\n",
    "genres = []\n",
    "releases = []\n",
    "total_episodes = []\n",
    "duration = []\n",
    "members = []\n",
    "score = []\n",
    "div_animes_season = soup.find('div', class_='seasonal-anime-list js-seasonal-anime-list js-seasonal-anime-list-key-1')\n",
    "for div in div_animes_season.find_all('div', class_='js-anime-category-producer seasonal-anime js-seasonal-anime js-anime-type-all js-anime-type-1'):\n",
    "    titles.append(div.find('span', class_='js-title').text)\n",
    "    genres.append(str([g.text.replace('\\n', '') for g in div.find('div', class_='js-genre-inner')]))\n",
    "    info = div.find('div', class_='info').text.replace(',', '').split()\n",
    "    releases.append(f'{info[0]} {info[1]} {info[2]}')\n",
    "    total_episodes.append(info[3] + ' ' + info[4])\n",
    "    duration.append(info[5] + ' ' + info[6])\n",
    "    scores_info = div.find('div', class_='scormem-container').text.replace('\\n', '').split()\n",
    "    members.append(scores_info[1])\n",
    "    score.append(float(scores_info[0]) if scores_info[0] != 'N/A' else 0)"
   ]
  },
  {
   "cell_type": "code",
   "execution_count": 5,
   "metadata": {},
   "outputs": [
    {
     "data": {
      "text/html": [
       "<div>\n",
       "<style scoped>\n",
       "    .dataframe tbody tr th:only-of-type {\n",
       "        vertical-align: middle;\n",
       "    }\n",
       "\n",
       "    .dataframe tbody tr th {\n",
       "        vertical-align: top;\n",
       "    }\n",
       "\n",
       "    .dataframe thead th {\n",
       "        text-align: right;\n",
       "    }\n",
       "</style>\n",
       "<table border=\"1\" class=\"dataframe\">\n",
       "  <thead>\n",
       "    <tr style=\"text-align: right;\">\n",
       "      <th></th>\n",
       "      <th>Title</th>\n",
       "      <th>Genre</th>\n",
       "      <th>Release</th>\n",
       "      <th>Total Episodes</th>\n",
       "      <th>Duration</th>\n",
       "      <th>Members</th>\n",
       "      <th>Score</th>\n",
       "    </tr>\n",
       "  </thead>\n",
       "  <tbody>\n",
       "    <tr>\n",
       "      <th>0</th>\n",
       "      <td>Chainsaw Man</td>\n",
       "      <td>['Action', 'Supernatural']</td>\n",
       "      <td>Oct 12 2022</td>\n",
       "      <td>12 eps</td>\n",
       "      <td>24 min</td>\n",
       "      <td>803K</td>\n",
       "      <td>8.88</td>\n",
       "    </tr>\n",
       "    <tr>\n",
       "      <th>1</th>\n",
       "      <td>Spy x Family Part 2</td>\n",
       "      <td>['Action', 'Comedy']</td>\n",
       "      <td>Oct 1 2022</td>\n",
       "      <td>13 eps</td>\n",
       "      <td>24 min</td>\n",
       "      <td>477K</td>\n",
       "      <td>8.68</td>\n",
       "    </tr>\n",
       "    <tr>\n",
       "      <th>2</th>\n",
       "      <td>Mob Psycho 100 III</td>\n",
       "      <td>['Action', 'Comedy', 'Supernatural']</td>\n",
       "      <td>Oct 6 2022</td>\n",
       "      <td>? eps</td>\n",
       "      <td>23 min</td>\n",
       "      <td>374K</td>\n",
       "      <td>8.66</td>\n",
       "    </tr>\n",
       "    <tr>\n",
       "      <th>3</th>\n",
       "      <td>Boku no Hero Academia 6th Season</td>\n",
       "      <td>['Action']</td>\n",
       "      <td>Oct 1 2022</td>\n",
       "      <td>25 eps</td>\n",
       "      <td>23 min</td>\n",
       "      <td>337K</td>\n",
       "      <td>8.21</td>\n",
       "    </tr>\n",
       "    <tr>\n",
       "      <th>4</th>\n",
       "      <td>Bleach: Sennen Kessen-hen</td>\n",
       "      <td>['Action', 'Adventure', 'Fantasy']</td>\n",
       "      <td>Oct 11 2022</td>\n",
       "      <td>? eps</td>\n",
       "      <td>24 min</td>\n",
       "      <td>279K</td>\n",
       "      <td>9.08</td>\n",
       "    </tr>\n",
       "  </tbody>\n",
       "</table>\n",
       "</div>"
      ],
      "text/plain": [
       "                              Title                                 Genre  \\\n",
       "0                      Chainsaw Man            ['Action', 'Supernatural']   \n",
       "1               Spy x Family Part 2                  ['Action', 'Comedy']   \n",
       "2                Mob Psycho 100 III  ['Action', 'Comedy', 'Supernatural']   \n",
       "3  Boku no Hero Academia 6th Season                            ['Action']   \n",
       "4         Bleach: Sennen Kessen-hen    ['Action', 'Adventure', 'Fantasy']   \n",
       "\n",
       "       Release Total Episodes Duration Members  Score  \n",
       "0  Oct 12 2022         12 eps   24 min    803K   8.88  \n",
       "1   Oct 1 2022         13 eps   24 min    477K   8.68  \n",
       "2   Oct 6 2022          ? eps   23 min    374K   8.66  \n",
       "3   Oct 1 2022         25 eps   23 min    337K   8.21  \n",
       "4  Oct 11 2022          ? eps   24 min    279K   9.08  "
      ]
     },
     "execution_count": 5,
     "metadata": {},
     "output_type": "execute_result"
    }
   ],
   "source": [
    "import pandas as pd\n",
    "df = pd.DataFrame({'Title': titles, 'Genre': genres, 'Release': releases, 'Total Episodes': total_episodes, 'Duration': duration, 'Members': members, 'Score': score})\n",
    "df.head()"
   ]
  },
  {
   "cell_type": "code",
   "execution_count": 6,
   "metadata": {},
   "outputs": [
    {
     "data": {
      "text/html": [
       "<div>\n",
       "<style scoped>\n",
       "    .dataframe tbody tr th:only-of-type {\n",
       "        vertical-align: middle;\n",
       "    }\n",
       "\n",
       "    .dataframe tbody tr th {\n",
       "        vertical-align: top;\n",
       "    }\n",
       "\n",
       "    .dataframe thead th {\n",
       "        text-align: right;\n",
       "    }\n",
       "</style>\n",
       "<table border=\"1\" class=\"dataframe\">\n",
       "  <thead>\n",
       "    <tr style=\"text-align: right;\">\n",
       "      <th></th>\n",
       "      <th>Title</th>\n",
       "      <th>Genre</th>\n",
       "      <th>Release</th>\n",
       "      <th>Total Episodes</th>\n",
       "      <th>Duration</th>\n",
       "      <th>Members</th>\n",
       "      <th>Score</th>\n",
       "    </tr>\n",
       "  </thead>\n",
       "  <tbody>\n",
       "    <tr>\n",
       "      <th>0</th>\n",
       "      <td>Chainsaw Man</td>\n",
       "      <td>Action, Supernatural</td>\n",
       "      <td>Oct 12 2022</td>\n",
       "      <td>12 eps</td>\n",
       "      <td>24 min</td>\n",
       "      <td>803K</td>\n",
       "      <td>8.88</td>\n",
       "    </tr>\n",
       "    <tr>\n",
       "      <th>1</th>\n",
       "      <td>Spy x Family Part 2</td>\n",
       "      <td>Action, Comedy</td>\n",
       "      <td>Oct 1 2022</td>\n",
       "      <td>13 eps</td>\n",
       "      <td>24 min</td>\n",
       "      <td>477K</td>\n",
       "      <td>8.68</td>\n",
       "    </tr>\n",
       "    <tr>\n",
       "      <th>2</th>\n",
       "      <td>Mob Psycho 100 III</td>\n",
       "      <td>Action, Comedy, Supernatural</td>\n",
       "      <td>Oct 6 2022</td>\n",
       "      <td>? eps</td>\n",
       "      <td>23 min</td>\n",
       "      <td>374K</td>\n",
       "      <td>8.66</td>\n",
       "    </tr>\n",
       "    <tr>\n",
       "      <th>3</th>\n",
       "      <td>Boku no Hero Academia 6th Season</td>\n",
       "      <td>Action</td>\n",
       "      <td>Oct 1 2022</td>\n",
       "      <td>25 eps</td>\n",
       "      <td>23 min</td>\n",
       "      <td>337K</td>\n",
       "      <td>8.21</td>\n",
       "    </tr>\n",
       "    <tr>\n",
       "      <th>4</th>\n",
       "      <td>Bleach: Sennen Kessen-hen</td>\n",
       "      <td>Action, Adventure, Fantasy</td>\n",
       "      <td>Oct 11 2022</td>\n",
       "      <td>? eps</td>\n",
       "      <td>24 min</td>\n",
       "      <td>279K</td>\n",
       "      <td>9.08</td>\n",
       "    </tr>\n",
       "  </tbody>\n",
       "</table>\n",
       "</div>"
      ],
      "text/plain": [
       "                              Title                         Genre  \\\n",
       "0                      Chainsaw Man          Action, Supernatural   \n",
       "1               Spy x Family Part 2                Action, Comedy   \n",
       "2                Mob Psycho 100 III  Action, Comedy, Supernatural   \n",
       "3  Boku no Hero Academia 6th Season                        Action   \n",
       "4         Bleach: Sennen Kessen-hen    Action, Adventure, Fantasy   \n",
       "\n",
       "       Release Total Episodes Duration Members  Score  \n",
       "0  Oct 12 2022         12 eps   24 min    803K   8.88  \n",
       "1   Oct 1 2022         13 eps   24 min    477K   8.68  \n",
       "2   Oct 6 2022          ? eps   23 min    374K   8.66  \n",
       "3   Oct 1 2022         25 eps   23 min    337K   8.21  \n",
       "4  Oct 11 2022          ? eps   24 min    279K   9.08  "
      ]
     },
     "execution_count": 6,
     "metadata": {},
     "output_type": "execute_result"
    }
   ],
   "source": [
    "df.Genre = df.Genre.str.strip('[]')\n",
    "df.Genre = df.Genre.str.replace(\"'\", '')\n",
    "df.head()"
   ]
  },
  {
   "cell_type": "code",
   "execution_count": 7,
   "metadata": {},
   "outputs": [],
   "source": [
    "df.to_csv('SeasonAnimes.csv', index=False)"
   ]
  },
  {
   "cell_type": "code",
   "execution_count": null,
   "metadata": {},
   "outputs": [],
   "source": []
  }
 ],
 "metadata": {
  "kernelspec": {
   "display_name": "Python 3.11.0 ('venv': venv)",
   "language": "python",
   "name": "python3"
  },
  "language_info": {
   "codemirror_mode": {
    "name": "ipython",
    "version": 3
   },
   "file_extension": ".py",
   "mimetype": "text/x-python",
   "name": "python",
   "nbconvert_exporter": "python",
   "pygments_lexer": "ipython3",
   "version": "3.11.0"
  },
  "orig_nbformat": 4,
  "vscode": {
   "interpreter": {
    "hash": "df477bee011fe0b4f5b2b48bbaad4c6124ac62d126d6da86af5084a794005845"
   }
  }
 },
 "nbformat": 4,
 "nbformat_minor": 2
}
