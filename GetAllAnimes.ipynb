{
 "cells": [
  {
   "cell_type": "code",
   "execution_count": 1,
   "metadata": {},
   "outputs": [
    {
     "name": "stdout",
     "output_type": "stream",
     "text": [
      "Note: you may need to restart the kernel to use updated packages.\n"
     ]
    },
    {
     "name": "stderr",
     "output_type": "stream",
     "text": [
      "\n",
      "[notice] A new release of pip available: 22.3 -> 22.3.1\n",
      "[notice] To update, run: python.exe -m pip install --upgrade pip\n"
     ]
    }
   ],
   "source": [
    "%pip install beautifulsoup4 requests pandas -q"
   ]
  },
  {
   "cell_type": "code",
   "execution_count": 2,
   "metadata": {},
   "outputs": [],
   "source": [
    "import requests\n",
    "import numpy as np\n",
    "import pandas as pd\n",
    "from bs4 import BeautifulSoup as bs"
   ]
  },
  {
   "cell_type": "code",
   "execution_count": 3,
   "metadata": {},
   "outputs": [],
   "source": [
    "BASE_URL = 'https://myanimelist.net/topanime.php?limit='\n",
    "res = requests.get(F'{BASE_URL}0')\n",
    "soup = bs(res.text, 'html.parser')"
   ]
  },
  {
   "cell_type": "code",
   "execution_count": 4,
   "metadata": {},
   "outputs": [],
   "source": [
    "animes = []\n",
    "def get_anime_values(tr):\n",
    "    tds = tr.find_all('td')\n",
    "    position = int(tds[0].text.strip()) if '-' not in tds[0].text.strip() else np.nan\n",
    "    title = tds[1].find_all('h3')[0].text.strip()\n",
    "    info = tds[1].find('div', {'class': 'information di-ib mt4'}).text.strip().split('\\n')\n",
    "    info = [i.strip() for i in info]\n",
    "    episodes = info[0]\n",
    "    release_date = info[1]\n",
    "    members = int(info[2].replace(',', '').split()[0])\n",
    "    score = float(tds[2].text.strip()) if 'N/A' not in tds[2].text else 0\n",
    "    details = tr.find_all('a')[0].get('href').strip()\n",
    "    \n",
    "    return [position, title, episodes, release_date, members, score, details]"
   ]
  },
  {
   "cell_type": "code",
   "execution_count": 5,
   "metadata": {},
   "outputs": [
    {
     "name": "stdout",
     "output_type": "stream",
     "text": [
      "Getting data from 0 to 50\n",
      "Getting data from 50 to 100\n",
      "CPU times: total: 469 ms\n",
      "Wall time: 2.63 s\n"
     ]
    }
   ],
   "source": [
    "%%time\n",
    "RANGE_LIMIT = 100000 # 100000 is the max limit\n",
    "animes = []\n",
    "for i in range(0, RANGE_LIMIT, 50):\n",
    "    res = requests.get(F'{BASE_URL}{i}')\n",
    "    soup = bs(res.text, 'html.parser')\n",
    "    if r\"This page doesn't exist.\" in soup.text:\n",
    "        print('Finished')\n",
    "        break\n",
    "    print(f'Getting data from {i} to {i+50}')\n",
    "    animes.extend(get_anime_values(tr) for tr in soup.find_all('tr')[1:])"
   ]
  },
  {
   "cell_type": "code",
   "execution_count": 6,
   "metadata": {},
   "outputs": [
    {
     "data": {
      "text/html": [
       "<div>\n",
       "<style scoped>\n",
       "    .dataframe tbody tr th:only-of-type {\n",
       "        vertical-align: middle;\n",
       "    }\n",
       "\n",
       "    .dataframe tbody tr th {\n",
       "        vertical-align: top;\n",
       "    }\n",
       "\n",
       "    .dataframe thead th {\n",
       "        text-align: right;\n",
       "    }\n",
       "</style>\n",
       "<table border=\"1\" class=\"dataframe\">\n",
       "  <thead>\n",
       "    <tr style=\"text-align: right;\">\n",
       "      <th></th>\n",
       "      <th>position</th>\n",
       "      <th>title</th>\n",
       "      <th>episodes</th>\n",
       "      <th>release_date</th>\n",
       "      <th>members</th>\n",
       "      <th>score</th>\n",
       "      <th>details</th>\n",
       "    </tr>\n",
       "  </thead>\n",
       "  <tbody>\n",
       "    <tr>\n",
       "      <th>92</th>\n",
       "      <td>93</td>\n",
       "      <td>Kimi no Suizou wo Tabetai</td>\n",
       "      <td>Movie (1 eps)</td>\n",
       "      <td>Sep 2018 - Sep 2018</td>\n",
       "      <td>822148</td>\n",
       "      <td>8.56</td>\n",
       "      <td>https://myanimelist.net/anime/36098/Kimi_no_Su...</td>\n",
       "    </tr>\n",
       "    <tr>\n",
       "      <th>15</th>\n",
       "      <td>16</td>\n",
       "      <td>Clannad: After Story</td>\n",
       "      <td>TV (24 eps)</td>\n",
       "      <td>Oct 2008 - Mar 2009</td>\n",
       "      <td>1110529</td>\n",
       "      <td>8.94</td>\n",
       "      <td>https://myanimelist.net/anime/4181/Clannad__Af...</td>\n",
       "    </tr>\n",
       "    <tr>\n",
       "      <th>79</th>\n",
       "      <td>80</td>\n",
       "      <td>Mushishi Zoku Shou: Suzu no Shizuku</td>\n",
       "      <td>Movie (1 eps)</td>\n",
       "      <td>May 2015 - May 2015</td>\n",
       "      <td>118617</td>\n",
       "      <td>8.60</td>\n",
       "      <td>https://myanimelist.net/anime/28957/Mushishi_Z...</td>\n",
       "    </tr>\n",
       "    <tr>\n",
       "      <th>65</th>\n",
       "      <td>66</td>\n",
       "      <td>Jujutsu Kaisen</td>\n",
       "      <td>TV (24 eps)</td>\n",
       "      <td>Oct 2020 - Mar 2021</td>\n",
       "      <td>2034749</td>\n",
       "      <td>8.66</td>\n",
       "      <td>https://myanimelist.net/anime/40748/Jujutsu_Ka...</td>\n",
       "    </tr>\n",
       "    <tr>\n",
       "      <th>63</th>\n",
       "      <td>64</td>\n",
       "      <td>Hajime no Ippo: New Challenger</td>\n",
       "      <td>TV (26 eps)</td>\n",
       "      <td>Jan 2009 - Jul 2009</td>\n",
       "      <td>252361</td>\n",
       "      <td>8.66</td>\n",
       "      <td>https://myanimelist.net/anime/5258/Hajime_no_I...</td>\n",
       "    </tr>\n",
       "  </tbody>\n",
       "</table>\n",
       "</div>"
      ],
      "text/plain": [
       "    position                                title       episodes  \\\n",
       "92        93            Kimi no Suizou wo Tabetai  Movie (1 eps)   \n",
       "15        16                 Clannad: After Story    TV (24 eps)   \n",
       "79        80  Mushishi Zoku Shou: Suzu no Shizuku  Movie (1 eps)   \n",
       "65        66                       Jujutsu Kaisen    TV (24 eps)   \n",
       "63        64       Hajime no Ippo: New Challenger    TV (26 eps)   \n",
       "\n",
       "           release_date  members  score  \\\n",
       "92  Sep 2018 - Sep 2018   822148   8.56   \n",
       "15  Oct 2008 - Mar 2009  1110529   8.94   \n",
       "79  May 2015 - May 2015   118617   8.60   \n",
       "65  Oct 2020 - Mar 2021  2034749   8.66   \n",
       "63  Jan 2009 - Jul 2009   252361   8.66   \n",
       "\n",
       "                                              details  \n",
       "92  https://myanimelist.net/anime/36098/Kimi_no_Su...  \n",
       "15  https://myanimelist.net/anime/4181/Clannad__Af...  \n",
       "79  https://myanimelist.net/anime/28957/Mushishi_Z...  \n",
       "65  https://myanimelist.net/anime/40748/Jujutsu_Ka...  \n",
       "63  https://myanimelist.net/anime/5258/Hajime_no_I...  "
      ]
     },
     "execution_count": 6,
     "metadata": {},
     "output_type": "execute_result"
    }
   ],
   "source": [
    "df = pd.DataFrame(animes, columns=['position', 'title', 'episodes', 'release_date', 'members', 'score', 'details'])\n",
    "df.drop_duplicates(subset=['title', 'episodes', 'release_date'], inplace=True, ignore_index=True)\n",
    "df.sample(5)"
   ]
  },
  {
   "cell_type": "code",
   "execution_count": 7,
   "metadata": {},
   "outputs": [
    {
     "data": {
      "text/plain": [
       "(0, 7)"
      ]
     },
     "execution_count": 7,
     "metadata": {},
     "output_type": "execute_result"
    }
   ],
   "source": [
    "df[df.title.str.contains(',')].shape"
   ]
  },
  {
   "cell_type": "code",
   "execution_count": 8,
   "metadata": {},
   "outputs": [
    {
     "data": {
      "text/plain": [
       "(1, 7)"
      ]
     },
     "execution_count": 8,
     "metadata": {},
     "output_type": "execute_result"
    }
   ],
   "source": [
    "df[df.title.str.contains(';')].shape"
   ]
  },
  {
   "cell_type": "code",
   "execution_count": 9,
   "metadata": {},
   "outputs": [],
   "source": [
    "df.title = df.title.str.replace(',', '')"
   ]
  },
  {
   "cell_type": "code",
   "execution_count": 10,
   "metadata": {},
   "outputs": [
    {
     "name": "stdout",
     "output_type": "stream",
     "text": [
      "CPU times: total: 15.6 ms\n",
      "Wall time: 16 ms\n"
     ]
    }
   ],
   "source": [
    "%%time\n",
    "df.to_csv('AllAnimes.csv', index=False)"
   ]
  },
  {
   "cell_type": "code",
   "execution_count": null,
   "metadata": {},
   "outputs": [],
   "source": []
  }
 ],
 "metadata": {
  "kernelspec": {
   "display_name": "Python 3.11.0 ('venv': venv)",
   "language": "python",
   "name": "python3"
  },
  "language_info": {
   "codemirror_mode": {
    "name": "ipython",
    "version": 3
   },
   "file_extension": ".py",
   "mimetype": "text/x-python",
   "name": "python",
   "nbconvert_exporter": "python",
   "pygments_lexer": "ipython3",
   "version": "3.11.0"
  },
  "orig_nbformat": 4,
  "vscode": {
   "interpreter": {
    "hash": "87110e436874846606d0d7b335f242c42320d929f57cc78ba4312838406dcb7a"
   }
  }
 },
 "nbformat": 4,
 "nbformat_minor": 2
}
